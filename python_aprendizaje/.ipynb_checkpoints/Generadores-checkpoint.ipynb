{
 "cells": [
  {
   "cell_type": "markdown",
   "metadata": {},
   "source": [
    "# Generadores y enumerate\n",
    "Secuencia de valores que se va calculando sobre la marcha.\n",
    "Se basan en la orden `yield`\n",
    "\n",
    "## Generadores"
   ]
  },
  {
   "cell_type": "code",
   "execution_count": 2,
   "metadata": {},
   "outputs": [],
   "source": [
    "def generador( n:int ):\n",
    "    for i in range(n):\n",
    "        yield i"
   ]
  },
  {
   "cell_type": "markdown",
   "metadata": {},
   "source": [
    "Procedamos ahora a llamarlo con la orden `next()`"
   ]
  },
  {
   "cell_type": "code",
   "execution_count": 3,
   "metadata": {
    "scrolled": true
   },
   "outputs": [
    {
     "data": {
      "text/plain": [
       "(0, 1, 2)"
      ]
     },
     "execution_count": 3,
     "metadata": {},
     "output_type": "execute_result"
    }
   ],
   "source": [
    "g = generador(3)\n",
    "next(g) , next(g) , next(g) # si pusieramos otro generaríamos un error"
   ]
  },
  {
   "cell_type": "markdown",
   "metadata": {},
   "source": [
    "## Enumerate \n",
    "Devuelve tupla con índice y valor (en dicho orden)"
   ]
  },
  {
   "cell_type": "code",
   "execution_count": 4,
   "metadata": {},
   "outputs": [
    {
     "name": "stdout",
     "output_type": "stream",
     "text": [
      "El índice es  0  para variar su valor es:  3\n",
      "El índice es  1  para variar su valor es:  3\n"
     ]
    }
   ],
   "source": [
    "for i , valor in enumerate([ 3 for i in range(2) ] ):\n",
    "    print('El índice es ' , i , ' para variar su valor es: ' ,valor)\n",
    "                        "
   ]
  },
  {
   "cell_type": "markdown",
   "metadata": {},
   "source": [
    "Todo este rollo que os acabo de meter es porque quería implementar:"
   ]
  },
  {
   "cell_type": "code",
   "execution_count": 9,
   "metadata": {},
   "outputs": [],
   "source": [
    "def enumergen( lista:list ):\n",
    "    for i, val in enumerate(lista):\n",
    "        yield i , val\n",
    "    while True:\n",
    "        yield False , False"
   ]
  },
  {
   "cell_type": "code",
   "execution_count": 20,
   "metadata": {},
   "outputs": [
    {
     "name": "stdout",
     "output_type": "stream",
     "text": [
      "(0, 4)\n",
      "(1, 2)\n",
      "(2, 9)\n"
     ]
    }
   ],
   "source": [
    "gen = enumergen([4,2,9])\n",
    "a = next(gen)\n",
    "while a != (False , False):\n",
    "    print(a)\n",
    "    a = next(gen)"
   ]
  },
  {
   "cell_type": "code",
   "execution_count": null,
   "metadata": {},
   "outputs": [],
   "source": []
  }
 ],
 "metadata": {
  "kernelspec": {
   "display_name": "Python 3",
   "language": "python",
   "name": "python3"
  },
  "language_info": {
   "codemirror_mode": {
    "name": "ipython",
    "version": 3
   },
   "file_extension": ".py",
   "mimetype": "text/x-python",
   "name": "python",
   "nbconvert_exporter": "python",
   "pygments_lexer": "ipython3",
   "version": "3.6.5"
  }
 },
 "nbformat": 4,
 "nbformat_minor": 2
}
